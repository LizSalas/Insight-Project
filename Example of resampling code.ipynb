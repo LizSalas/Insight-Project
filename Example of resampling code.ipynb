{
 "cells": [
  {
   "cell_type": "code",
   "execution_count": 27,
   "metadata": {},
   "outputs": [],
   "source": [
    "import pandas as pd\n",
    "import numpy as np"
   ]
  },
  {
   "cell_type": "code",
   "execution_count": 28,
   "metadata": {},
   "outputs": [
    {
     "data": {
      "text/plain": [
       "2011-01-01 00:00:00   -1.547227\n",
       "2011-01-01 01:00:00    0.741251\n",
       "2011-01-01 02:00:00    1.042196\n",
       "2011-01-01 03:00:00    0.270465\n",
       "2011-01-01 04:00:00    1.229226\n",
       "Freq: H, dtype: float64"
      ]
     },
     "execution_count": 28,
     "metadata": {},
     "output_type": "execute_result"
    }
   ],
   "source": [
    "rng = pd.date_range('1/1/2011', periods=72, freq='H')\n",
    "ts = pd.Series(np.random.randn(len(rng)), index=rng)\n",
    "ts.head()"
   ]
  },
  {
   "cell_type": "code",
   "execution_count": 29,
   "metadata": {},
   "outputs": [
    {
     "ename": "ValueError",
     "evalue": "Cannot take a larger sample than population when 'replace=False'",
     "output_type": "error",
     "traceback": [
      "\u001b[1;31m---------------------------------------------------------------------------\u001b[0m",
      "\u001b[1;31mValueError\u001b[0m                                Traceback (most recent call last)",
      "\u001b[1;32m<ipython-input-29-def8cf7ede16>\u001b[0m in \u001b[0;36m<module>\u001b[1;34m\u001b[0m\n\u001b[0;32m      1\u001b[0m \u001b[1;31m# Make the timeseries irregular.\u001b[0m\u001b[1;33m\u001b[0m\u001b[1;33m\u001b[0m\u001b[1;33m\u001b[0m\u001b[0m\n\u001b[0;32m      2\u001b[0m irreg_ts = ts[list(np.random.choice(a=list(range(len(ts))),\n\u001b[1;32m----> 3\u001b[1;33m                                     size=500, replace=False))].sort_index()\n\u001b[0m",
      "\u001b[1;32mmtrand.pyx\u001b[0m in \u001b[0;36mmtrand.RandomState.choice\u001b[1;34m()\u001b[0m\n",
      "\u001b[1;31mValueError\u001b[0m: Cannot take a larger sample than population when 'replace=False'"
     ]
    }
   ],
   "source": []
  },
  {
   "cell_type": "code",
   "execution_count": 11,
   "metadata": {},
   "outputs": [
    {
     "data": {
      "text/plain": [
       "2011-01-01 00:00:00   -0.840019\n",
       "2011-01-01 00:45:00   -0.840019\n",
       "2011-01-01 01:30:00   -0.565068\n",
       "2011-01-01 02:15:00    0.214882\n",
       "2011-01-01 03:00:00    0.267174\n",
       "Freq: 45T, dtype: float64"
      ]
     },
     "execution_count": 11,
     "metadata": {},
     "output_type": "execute_result"
    }
   ],
   "source": [
    "converted.head()"
   ]
  },
  {
   "cell_type": "code",
   "execution_count": 14,
   "metadata": {},
   "outputs": [
    {
     "data": {
      "text/plain": [
       "-1.8363373269533199"
      ]
     },
     "execution_count": 14,
     "metadata": {},
     "output_type": "execute_result"
    }
   ],
   "source": [
    "ts.asfreq('D').sum()"
   ]
  },
  {
   "cell_type": "code",
   "execution_count": 30,
   "metadata": {},
   "outputs": [],
   "source": [
    "import pandas as pd\n",
    "import numpy as np\n",
    "\n",
    "# Create a range of timestamps with dt = 15 seconds between timestamps\n",
    "rng = pd.date_range('1/1/2011', periods=2000, freq='15s')\n",
    "# Create a timeseries using the timestamps and some randomly generated data\n",
    "ts = pd.Series(np.random.randn(len(rng)), index=rng)\n",
    "\n",
    "# Make the timeseries irregular.\n",
    "irreg_ts = ts[list(np.random.choice(a=list(range(len(ts))),\n",
    "                                    size=500, replace=False))].sort_index()"
   ]
  },
  {
   "cell_type": "code",
   "execution_count": 31,
   "metadata": {},
   "outputs": [
    {
     "data": {
      "text/plain": [
       "2011-01-01 00:01:00   -2.671361\n",
       "2011-01-01 00:01:15    0.287463\n",
       "2011-01-01 00:02:15    0.966667\n",
       "2011-01-01 00:06:00   -1.389068\n",
       "2011-01-01 00:06:15   -2.218000\n",
       "dtype: float64"
      ]
     },
     "execution_count": 31,
     "metadata": {},
     "output_type": "execute_result"
    }
   ],
   "source": [
    "irreg_ts.head()"
   ]
  },
  {
   "cell_type": "code",
   "execution_count": 41,
   "metadata": {},
   "outputs": [],
   "source": [
    "# Resample with dt = 1 minute.  This is done by using a moving window.  If more\n",
    "# than one data point is found within a window, use the median of the values. \n",
    "# If no data points are found within the window, NaN is returned.\n",
    "resampled_timeseries = irreg_ts.resample('1T').median()"
   ]
  },
  {
   "cell_type": "code",
   "execution_count": 42,
   "metadata": {},
   "outputs": [
    {
     "data": {
      "text/plain": [
       "2011-01-01 00:01:00   -1.191949\n",
       "2011-01-01 00:02:00    0.966667\n",
       "2011-01-01 00:03:00         NaN\n",
       "2011-01-01 00:04:00         NaN\n",
       "2011-01-01 00:05:00         NaN\n",
       "2011-01-01 00:06:00   -1.803534\n",
       "2011-01-01 00:07:00   -1.246001\n",
       "2011-01-01 00:08:00         NaN\n",
       "2011-01-01 00:09:00    0.542532\n",
       "2011-01-01 00:10:00   -1.473651\n",
       "Freq: T, dtype: float64"
      ]
     },
     "execution_count": 42,
     "metadata": {},
     "output_type": "execute_result"
    }
   ],
   "source": [
    "resampled_timeseries.head(10)"
   ]
  },
  {
   "cell_type": "code",
   "execution_count": 37,
   "metadata": {},
   "outputs": [],
   "source": [
    "#Fill the NaN values with the global median\n",
    "resampled_timeseries.fillna(np.nanmedian(resampled_timeseries), inplace=True)\n"
   ]
  },
  {
   "cell_type": "code",
   "execution_count": 39,
   "metadata": {},
   "outputs": [
    {
     "data": {
      "text/plain": [
       "2011-01-01 00:01:00   -1.191949\n",
       "2011-01-01 00:02:00    0.966667\n",
       "2011-01-01 00:03:00    0.007808\n",
       "2011-01-01 00:04:00    0.007808\n",
       "2011-01-01 00:05:00    0.007808\n",
       "2011-01-01 00:06:00   -1.803534\n",
       "2011-01-01 00:07:00   -1.246001\n",
       "2011-01-01 00:08:00    0.007808\n",
       "2011-01-01 00:09:00    0.542532\n",
       "2011-01-01 00:10:00   -1.473651\n",
       "Freq: T, dtype: float64"
      ]
     },
     "execution_count": 39,
     "metadata": {},
     "output_type": "execute_result"
    }
   ],
   "source": [
    "resampled_timeseries.head(10)"
   ]
  },
  {
   "cell_type": "code",
   "execution_count": 56,
   "metadata": {},
   "outputs": [],
   "source": [
    "resampled_timeseries = irreg_ts.resample('1T').interpolate(method='linear')\n"
   ]
  },
  {
   "cell_type": "code",
   "execution_count": 57,
   "metadata": {
    "scrolled": true
   },
   "outputs": [
    {
     "data": {
      "text/plain": [
       "2011-01-01 00:01:00   -2.671361\n",
       "2011-01-01 00:02:00   -2.414902\n",
       "2011-01-01 00:03:00   -2.158444\n",
       "2011-01-01 00:04:00   -1.901985\n",
       "2011-01-01 00:05:00   -1.645526\n",
       "2011-01-01 00:06:00   -1.389068\n",
       "2011-01-01 00:07:00   -1.410214\n",
       "2011-01-01 00:08:00   -1.431359\n",
       "2011-01-01 00:09:00   -1.452505\n",
       "2011-01-01 00:10:00   -1.473651\n",
       "Freq: T, dtype: float64"
      ]
     },
     "execution_count": 57,
     "metadata": {},
     "output_type": "execute_result"
    }
   ],
   "source": [
    "resampled_timeseries.head(10)"
   ]
  },
  {
   "cell_type": "code",
   "execution_count": 58,
   "metadata": {},
   "outputs": [],
   "source": [
    "resampled_timeseries_spline = irreg_ts.resample('1T').interpolate(method='cubic')\n"
   ]
  },
  {
   "cell_type": "code",
   "execution_count": 59,
   "metadata": {},
   "outputs": [
    {
     "data": {
      "text/plain": [
       "2011-01-01 00:01:00   -2.671361\n",
       "2011-01-01 00:02:00   -1.681098\n",
       "2011-01-01 00:03:00   -1.172192\n",
       "2011-01-01 00:04:00   -1.030188\n",
       "2011-01-01 00:05:00   -1.140632\n",
       "2011-01-01 00:06:00   -1.389068\n",
       "2011-01-01 00:07:00   -1.661042\n",
       "Freq: T, dtype: float64"
      ]
     },
     "execution_count": 59,
     "metadata": {},
     "output_type": "execute_result"
    }
   ],
   "source": [
    "resampled_timeseries_spline.head(7)"
   ]
  },
  {
   "cell_type": "code",
   "execution_count": null,
   "metadata": {},
   "outputs": [],
   "source": []
  }
 ],
 "metadata": {
  "kernelspec": {
   "display_name": "Python 3",
   "language": "python",
   "name": "python3"
  },
  "language_info": {
   "codemirror_mode": {
    "name": "ipython",
    "version": 3
   },
   "file_extension": ".py",
   "mimetype": "text/x-python",
   "name": "python",
   "nbconvert_exporter": "python",
   "pygments_lexer": "ipython3",
   "version": "3.7.1"
  }
 },
 "nbformat": 4,
 "nbformat_minor": 2
}
